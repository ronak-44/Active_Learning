{
  "nbformat": 4,
  "nbformat_minor": 0,
  "metadata": {
    "colab": {
      "name": "Bayesian.ipynb",
      "provenance": []
    },
    "kernelspec": {
      "name": "python3",
      "display_name": "Python 3"
    },
    "language_info": {
      "name": "python"
    }
  },
  "cells": [
    {
      "cell_type": "code",
      "metadata": {
        "colab": {
          "base_uri": "https://localhost:8080/"
        },
        "id": "O_MMNs8jojrX",
        "outputId": "3c3cbae4-9ef0-4aec-dddd-e5de9bd9df79"
      },
      "source": [
        "from google.colab import drive\n",
        "drive.mount('/content/gdrive')\n",
        "%cd \"/content/gdrive/My Drive/active\""
      ],
      "execution_count": 1,
      "outputs": [
        {
          "output_type": "stream",
          "text": [
            "Drive already mounted at /content/gdrive; to attempt to forcibly remount, call drive.mount(\"/content/gdrive\", force_remount=True).\n",
            "/content/gdrive/My Drive/active\n"
          ],
          "name": "stdout"
        }
      ]
    },
    {
      "cell_type": "code",
      "metadata": {
        "colab": {
          "base_uri": "https://localhost:8080/",
          "height": 191
        },
        "id": "9_Mma7O-pEHT",
        "outputId": "c1930145-e672-4b0b-f6af-fca91061d8eb"
      },
      "source": [
        "import pandas as pd\n",
        "origdata = pd.read_csv(\"pcmdata.csv\",index_col=0)\n",
        "#origdata['new'] = 0\n",
        "origdata[:2]"
      ],
      "execution_count": 2,
      "outputs": [
        {
          "output_type": "execute_result",
          "data": {
            "text/html": [
              "<div>\n",
              "<style scoped>\n",
              "    .dataframe tbody tr th:only-of-type {\n",
              "        vertical-align: middle;\n",
              "    }\n",
              "\n",
              "    .dataframe tbody tr th {\n",
              "        vertical-align: top;\n",
              "    }\n",
              "\n",
              "    .dataframe thead th {\n",
              "        text-align: right;\n",
              "    }\n",
              "</style>\n",
              "<table border=\"1\" class=\"dataframe\">\n",
              "  <thead>\n",
              "    <tr style=\"text-align: right;\">\n",
              "      <th></th>\n",
              "      <th>target</th>\n",
              "      <th>bit0</th>\n",
              "      <th>bit1</th>\n",
              "      <th>bit2</th>\n",
              "      <th>bit3</th>\n",
              "      <th>bit4</th>\n",
              "      <th>bit5</th>\n",
              "      <th>bit6</th>\n",
              "      <th>bit7</th>\n",
              "      <th>bit8</th>\n",
              "      <th>bit9</th>\n",
              "      <th>bit10</th>\n",
              "      <th>bit11</th>\n",
              "      <th>bit12</th>\n",
              "      <th>bit13</th>\n",
              "      <th>bit14</th>\n",
              "      <th>bit15</th>\n",
              "      <th>bit16</th>\n",
              "      <th>bit17</th>\n",
              "      <th>bit18</th>\n",
              "      <th>bit19</th>\n",
              "      <th>bit20</th>\n",
              "      <th>bit22</th>\n",
              "      <th>bit23</th>\n",
              "      <th>bit24</th>\n",
              "      <th>bit25</th>\n",
              "      <th>bit26</th>\n",
              "      <th>bit27</th>\n",
              "      <th>bit28</th>\n",
              "      <th>bit29</th>\n",
              "      <th>bit30</th>\n",
              "      <th>bit31</th>\n",
              "      <th>bit32</th>\n",
              "      <th>bit33</th>\n",
              "      <th>bit34</th>\n",
              "      <th>bit35</th>\n",
              "      <th>bit36</th>\n",
              "      <th>bit37</th>\n",
              "      <th>bit38</th>\n",
              "      <th>bit39</th>\n",
              "      <th>...</th>\n",
              "      <th>dp343</th>\n",
              "      <th>dp344</th>\n",
              "      <th>dp345</th>\n",
              "      <th>dp346</th>\n",
              "      <th>dp347</th>\n",
              "      <th>dp348</th>\n",
              "      <th>dp349</th>\n",
              "      <th>dp350</th>\n",
              "      <th>dp351</th>\n",
              "      <th>dp352</th>\n",
              "      <th>dp353</th>\n",
              "      <th>dp354</th>\n",
              "      <th>dp355</th>\n",
              "      <th>dp356</th>\n",
              "      <th>dp357</th>\n",
              "      <th>dp358</th>\n",
              "      <th>dp359</th>\n",
              "      <th>dp360</th>\n",
              "      <th>dp361</th>\n",
              "      <th>dp362</th>\n",
              "      <th>dp365</th>\n",
              "      <th>dp366</th>\n",
              "      <th>dp370</th>\n",
              "      <th>dp381</th>\n",
              "      <th>dp382</th>\n",
              "      <th>dp383</th>\n",
              "      <th>dp384</th>\n",
              "      <th>dp385</th>\n",
              "      <th>dp386</th>\n",
              "      <th>dp389</th>\n",
              "      <th>dp391</th>\n",
              "      <th>dp392</th>\n",
              "      <th>dp393</th>\n",
              "      <th>dp394</th>\n",
              "      <th>dp395</th>\n",
              "      <th>dp396</th>\n",
              "      <th>dp397</th>\n",
              "      <th>dp398</th>\n",
              "      <th>class</th>\n",
              "      <th>activity</th>\n",
              "    </tr>\n",
              "    <tr>\n",
              "      <th>compound</th>\n",
              "      <th></th>\n",
              "      <th></th>\n",
              "      <th></th>\n",
              "      <th></th>\n",
              "      <th></th>\n",
              "      <th></th>\n",
              "      <th></th>\n",
              "      <th></th>\n",
              "      <th></th>\n",
              "      <th></th>\n",
              "      <th></th>\n",
              "      <th></th>\n",
              "      <th></th>\n",
              "      <th></th>\n",
              "      <th></th>\n",
              "      <th></th>\n",
              "      <th></th>\n",
              "      <th></th>\n",
              "      <th></th>\n",
              "      <th></th>\n",
              "      <th></th>\n",
              "      <th></th>\n",
              "      <th></th>\n",
              "      <th></th>\n",
              "      <th></th>\n",
              "      <th></th>\n",
              "      <th></th>\n",
              "      <th></th>\n",
              "      <th></th>\n",
              "      <th></th>\n",
              "      <th></th>\n",
              "      <th></th>\n",
              "      <th></th>\n",
              "      <th></th>\n",
              "      <th></th>\n",
              "      <th></th>\n",
              "      <th></th>\n",
              "      <th></th>\n",
              "      <th></th>\n",
              "      <th></th>\n",
              "      <th></th>\n",
              "      <th></th>\n",
              "      <th></th>\n",
              "      <th></th>\n",
              "      <th></th>\n",
              "      <th></th>\n",
              "      <th></th>\n",
              "      <th></th>\n",
              "      <th></th>\n",
              "      <th></th>\n",
              "      <th></th>\n",
              "      <th></th>\n",
              "      <th></th>\n",
              "      <th></th>\n",
              "      <th></th>\n",
              "      <th></th>\n",
              "      <th></th>\n",
              "      <th></th>\n",
              "      <th></th>\n",
              "      <th></th>\n",
              "      <th></th>\n",
              "      <th></th>\n",
              "      <th></th>\n",
              "      <th></th>\n",
              "      <th></th>\n",
              "      <th></th>\n",
              "      <th></th>\n",
              "      <th></th>\n",
              "      <th></th>\n",
              "      <th></th>\n",
              "      <th></th>\n",
              "      <th></th>\n",
              "      <th></th>\n",
              "      <th></th>\n",
              "      <th></th>\n",
              "      <th></th>\n",
              "      <th></th>\n",
              "      <th></th>\n",
              "      <th></th>\n",
              "      <th></th>\n",
              "      <th></th>\n",
              "    </tr>\n",
              "  </thead>\n",
              "  <tbody>\n",
              "    <tr>\n",
              "      <th>CHEMBL4216101</th>\n",
              "      <td>fipv</td>\n",
              "      <td>0</td>\n",
              "      <td>1</td>\n",
              "      <td>0</td>\n",
              "      <td>0</td>\n",
              "      <td>0</td>\n",
              "      <td>0</td>\n",
              "      <td>0</td>\n",
              "      <td>0</td>\n",
              "      <td>0</td>\n",
              "      <td>1</td>\n",
              "      <td>1</td>\n",
              "      <td>0</td>\n",
              "      <td>0</td>\n",
              "      <td>0</td>\n",
              "      <td>0</td>\n",
              "      <td>0</td>\n",
              "      <td>0</td>\n",
              "      <td>0</td>\n",
              "      <td>0</td>\n",
              "      <td>0</td>\n",
              "      <td>0</td>\n",
              "      <td>0</td>\n",
              "      <td>0</td>\n",
              "      <td>0</td>\n",
              "      <td>0</td>\n",
              "      <td>0</td>\n",
              "      <td>1</td>\n",
              "      <td>0</td>\n",
              "      <td>0</td>\n",
              "      <td>0</td>\n",
              "      <td>1</td>\n",
              "      <td>0</td>\n",
              "      <td>1</td>\n",
              "      <td>0</td>\n",
              "      <td>0</td>\n",
              "      <td>1</td>\n",
              "      <td>0</td>\n",
              "      <td>1</td>\n",
              "      <td>0</td>\n",
              "      <td>...</td>\n",
              "      <td>0.0</td>\n",
              "      <td>0.653595</td>\n",
              "      <td>0.0</td>\n",
              "      <td>0.653595</td>\n",
              "      <td>0.0</td>\n",
              "      <td>1.30719</td>\n",
              "      <td>0.0</td>\n",
              "      <td>0.980392</td>\n",
              "      <td>0.326797</td>\n",
              "      <td>1.633987</td>\n",
              "      <td>0.0</td>\n",
              "      <td>0.0</td>\n",
              "      <td>1.30719</td>\n",
              "      <td>0.653595</td>\n",
              "      <td>0.326797</td>\n",
              "      <td>0.980392</td>\n",
              "      <td>0.0</td>\n",
              "      <td>0.653595</td>\n",
              "      <td>0.326797</td>\n",
              "      <td>0.0</td>\n",
              "      <td>0.326797</td>\n",
              "      <td>0.0</td>\n",
              "      <td>0.326797</td>\n",
              "      <td>0.326797</td>\n",
              "      <td>0.0</td>\n",
              "      <td>0.0</td>\n",
              "      <td>0.980392</td>\n",
              "      <td>0.326797</td>\n",
              "      <td>1.633987</td>\n",
              "      <td>0.326797</td>\n",
              "      <td>0.326797</td>\n",
              "      <td>0.326797</td>\n",
              "      <td>0.0</td>\n",
              "      <td>0.0</td>\n",
              "      <td>0.0</td>\n",
              "      <td>0.326797</td>\n",
              "      <td>0.0</td>\n",
              "      <td>0.326797</td>\n",
              "      <td>1</td>\n",
              "      <td>5.17</td>\n",
              "    </tr>\n",
              "    <tr>\n",
              "      <th>CHEMBL4212620</th>\n",
              "      <td>fipv</td>\n",
              "      <td>0</td>\n",
              "      <td>1</td>\n",
              "      <td>0</td>\n",
              "      <td>0</td>\n",
              "      <td>0</td>\n",
              "      <td>0</td>\n",
              "      <td>0</td>\n",
              "      <td>0</td>\n",
              "      <td>0</td>\n",
              "      <td>1</td>\n",
              "      <td>1</td>\n",
              "      <td>0</td>\n",
              "      <td>0</td>\n",
              "      <td>0</td>\n",
              "      <td>0</td>\n",
              "      <td>0</td>\n",
              "      <td>0</td>\n",
              "      <td>0</td>\n",
              "      <td>0</td>\n",
              "      <td>0</td>\n",
              "      <td>0</td>\n",
              "      <td>0</td>\n",
              "      <td>0</td>\n",
              "      <td>0</td>\n",
              "      <td>0</td>\n",
              "      <td>0</td>\n",
              "      <td>0</td>\n",
              "      <td>0</td>\n",
              "      <td>0</td>\n",
              "      <td>0</td>\n",
              "      <td>1</td>\n",
              "      <td>0</td>\n",
              "      <td>1</td>\n",
              "      <td>0</td>\n",
              "      <td>0</td>\n",
              "      <td>1</td>\n",
              "      <td>0</td>\n",
              "      <td>1</td>\n",
              "      <td>0</td>\n",
              "      <td>...</td>\n",
              "      <td>0.0</td>\n",
              "      <td>0.653595</td>\n",
              "      <td>0.0</td>\n",
              "      <td>0.653595</td>\n",
              "      <td>0.0</td>\n",
              "      <td>1.30719</td>\n",
              "      <td>0.0</td>\n",
              "      <td>0.980392</td>\n",
              "      <td>0.326797</td>\n",
              "      <td>1.633987</td>\n",
              "      <td>0.0</td>\n",
              "      <td>0.0</td>\n",
              "      <td>1.30719</td>\n",
              "      <td>0.653595</td>\n",
              "      <td>0.326797</td>\n",
              "      <td>0.980392</td>\n",
              "      <td>0.0</td>\n",
              "      <td>0.653595</td>\n",
              "      <td>0.326797</td>\n",
              "      <td>0.0</td>\n",
              "      <td>0.326797</td>\n",
              "      <td>0.0</td>\n",
              "      <td>0.326797</td>\n",
              "      <td>0.326797</td>\n",
              "      <td>0.0</td>\n",
              "      <td>0.0</td>\n",
              "      <td>0.980392</td>\n",
              "      <td>0.326797</td>\n",
              "      <td>1.633987</td>\n",
              "      <td>0.326797</td>\n",
              "      <td>0.326797</td>\n",
              "      <td>0.326797</td>\n",
              "      <td>0.0</td>\n",
              "      <td>0.0</td>\n",
              "      <td>0.0</td>\n",
              "      <td>0.326797</td>\n",
              "      <td>0.0</td>\n",
              "      <td>0.326797</td>\n",
              "      <td>1</td>\n",
              "      <td>5.26</td>\n",
              "    </tr>\n",
              "  </tbody>\n",
              "</table>\n",
              "<p>2 rows × 825 columns</p>\n",
              "</div>"
            ],
            "text/plain": [
              "              target  bit0  bit1  bit2  ...  dp397     dp398  class  activity\n",
              "compound                                ...                                  \n",
              "CHEMBL4216101   fipv     0     1     0  ...    0.0  0.326797      1      5.17\n",
              "CHEMBL4212620   fipv     0     1     0  ...    0.0  0.326797      1      5.26\n",
              "\n",
              "[2 rows x 825 columns]"
            ]
          },
          "metadata": {
            "tags": []
          },
          "execution_count": 2
        }
      ]
    },
    {
      "cell_type": "code",
      "metadata": {
        "colab": {
          "base_uri": "https://localhost:8080/",
          "height": 191
        },
        "id": "hVsy6MZFpEJo",
        "outputId": "4bfa94eb-8a39-4fdc-e096-dc3e1e79e655"
      },
      "source": [
        "#del origdata['new'] \n",
        "#del origdata['activity']\n",
        "del origdata['target'] \n",
        "del origdata['class']\n",
        "origdata[:2]"
      ],
      "execution_count": 3,
      "outputs": [
        {
          "output_type": "execute_result",
          "data": {
            "text/html": [
              "<div>\n",
              "<style scoped>\n",
              "    .dataframe tbody tr th:only-of-type {\n",
              "        vertical-align: middle;\n",
              "    }\n",
              "\n",
              "    .dataframe tbody tr th {\n",
              "        vertical-align: top;\n",
              "    }\n",
              "\n",
              "    .dataframe thead th {\n",
              "        text-align: right;\n",
              "    }\n",
              "</style>\n",
              "<table border=\"1\" class=\"dataframe\">\n",
              "  <thead>\n",
              "    <tr style=\"text-align: right;\">\n",
              "      <th></th>\n",
              "      <th>bit0</th>\n",
              "      <th>bit1</th>\n",
              "      <th>bit2</th>\n",
              "      <th>bit3</th>\n",
              "      <th>bit4</th>\n",
              "      <th>bit5</th>\n",
              "      <th>bit6</th>\n",
              "      <th>bit7</th>\n",
              "      <th>bit8</th>\n",
              "      <th>bit9</th>\n",
              "      <th>bit10</th>\n",
              "      <th>bit11</th>\n",
              "      <th>bit12</th>\n",
              "      <th>bit13</th>\n",
              "      <th>bit14</th>\n",
              "      <th>bit15</th>\n",
              "      <th>bit16</th>\n",
              "      <th>bit17</th>\n",
              "      <th>bit18</th>\n",
              "      <th>bit19</th>\n",
              "      <th>bit20</th>\n",
              "      <th>bit22</th>\n",
              "      <th>bit23</th>\n",
              "      <th>bit24</th>\n",
              "      <th>bit25</th>\n",
              "      <th>bit26</th>\n",
              "      <th>bit27</th>\n",
              "      <th>bit28</th>\n",
              "      <th>bit29</th>\n",
              "      <th>bit30</th>\n",
              "      <th>bit31</th>\n",
              "      <th>bit32</th>\n",
              "      <th>bit33</th>\n",
              "      <th>bit34</th>\n",
              "      <th>bit35</th>\n",
              "      <th>bit36</th>\n",
              "      <th>bit37</th>\n",
              "      <th>bit38</th>\n",
              "      <th>bit39</th>\n",
              "      <th>bit40</th>\n",
              "      <th>...</th>\n",
              "      <th>dp342</th>\n",
              "      <th>dp343</th>\n",
              "      <th>dp344</th>\n",
              "      <th>dp345</th>\n",
              "      <th>dp346</th>\n",
              "      <th>dp347</th>\n",
              "      <th>dp348</th>\n",
              "      <th>dp349</th>\n",
              "      <th>dp350</th>\n",
              "      <th>dp351</th>\n",
              "      <th>dp352</th>\n",
              "      <th>dp353</th>\n",
              "      <th>dp354</th>\n",
              "      <th>dp355</th>\n",
              "      <th>dp356</th>\n",
              "      <th>dp357</th>\n",
              "      <th>dp358</th>\n",
              "      <th>dp359</th>\n",
              "      <th>dp360</th>\n",
              "      <th>dp361</th>\n",
              "      <th>dp362</th>\n",
              "      <th>dp365</th>\n",
              "      <th>dp366</th>\n",
              "      <th>dp370</th>\n",
              "      <th>dp381</th>\n",
              "      <th>dp382</th>\n",
              "      <th>dp383</th>\n",
              "      <th>dp384</th>\n",
              "      <th>dp385</th>\n",
              "      <th>dp386</th>\n",
              "      <th>dp389</th>\n",
              "      <th>dp391</th>\n",
              "      <th>dp392</th>\n",
              "      <th>dp393</th>\n",
              "      <th>dp394</th>\n",
              "      <th>dp395</th>\n",
              "      <th>dp396</th>\n",
              "      <th>dp397</th>\n",
              "      <th>dp398</th>\n",
              "      <th>activity</th>\n",
              "    </tr>\n",
              "    <tr>\n",
              "      <th>compound</th>\n",
              "      <th></th>\n",
              "      <th></th>\n",
              "      <th></th>\n",
              "      <th></th>\n",
              "      <th></th>\n",
              "      <th></th>\n",
              "      <th></th>\n",
              "      <th></th>\n",
              "      <th></th>\n",
              "      <th></th>\n",
              "      <th></th>\n",
              "      <th></th>\n",
              "      <th></th>\n",
              "      <th></th>\n",
              "      <th></th>\n",
              "      <th></th>\n",
              "      <th></th>\n",
              "      <th></th>\n",
              "      <th></th>\n",
              "      <th></th>\n",
              "      <th></th>\n",
              "      <th></th>\n",
              "      <th></th>\n",
              "      <th></th>\n",
              "      <th></th>\n",
              "      <th></th>\n",
              "      <th></th>\n",
              "      <th></th>\n",
              "      <th></th>\n",
              "      <th></th>\n",
              "      <th></th>\n",
              "      <th></th>\n",
              "      <th></th>\n",
              "      <th></th>\n",
              "      <th></th>\n",
              "      <th></th>\n",
              "      <th></th>\n",
              "      <th></th>\n",
              "      <th></th>\n",
              "      <th></th>\n",
              "      <th></th>\n",
              "      <th></th>\n",
              "      <th></th>\n",
              "      <th></th>\n",
              "      <th></th>\n",
              "      <th></th>\n",
              "      <th></th>\n",
              "      <th></th>\n",
              "      <th></th>\n",
              "      <th></th>\n",
              "      <th></th>\n",
              "      <th></th>\n",
              "      <th></th>\n",
              "      <th></th>\n",
              "      <th></th>\n",
              "      <th></th>\n",
              "      <th></th>\n",
              "      <th></th>\n",
              "      <th></th>\n",
              "      <th></th>\n",
              "      <th></th>\n",
              "      <th></th>\n",
              "      <th></th>\n",
              "      <th></th>\n",
              "      <th></th>\n",
              "      <th></th>\n",
              "      <th></th>\n",
              "      <th></th>\n",
              "      <th></th>\n",
              "      <th></th>\n",
              "      <th></th>\n",
              "      <th></th>\n",
              "      <th></th>\n",
              "      <th></th>\n",
              "      <th></th>\n",
              "      <th></th>\n",
              "      <th></th>\n",
              "      <th></th>\n",
              "      <th></th>\n",
              "      <th></th>\n",
              "      <th></th>\n",
              "    </tr>\n",
              "  </thead>\n",
              "  <tbody>\n",
              "    <tr>\n",
              "      <th>CHEMBL4216101</th>\n",
              "      <td>0</td>\n",
              "      <td>1</td>\n",
              "      <td>0</td>\n",
              "      <td>0</td>\n",
              "      <td>0</td>\n",
              "      <td>0</td>\n",
              "      <td>0</td>\n",
              "      <td>0</td>\n",
              "      <td>0</td>\n",
              "      <td>1</td>\n",
              "      <td>1</td>\n",
              "      <td>0</td>\n",
              "      <td>0</td>\n",
              "      <td>0</td>\n",
              "      <td>0</td>\n",
              "      <td>0</td>\n",
              "      <td>0</td>\n",
              "      <td>0</td>\n",
              "      <td>0</td>\n",
              "      <td>0</td>\n",
              "      <td>0</td>\n",
              "      <td>0</td>\n",
              "      <td>0</td>\n",
              "      <td>0</td>\n",
              "      <td>0</td>\n",
              "      <td>0</td>\n",
              "      <td>1</td>\n",
              "      <td>0</td>\n",
              "      <td>0</td>\n",
              "      <td>0</td>\n",
              "      <td>1</td>\n",
              "      <td>0</td>\n",
              "      <td>1</td>\n",
              "      <td>0</td>\n",
              "      <td>0</td>\n",
              "      <td>1</td>\n",
              "      <td>0</td>\n",
              "      <td>1</td>\n",
              "      <td>0</td>\n",
              "      <td>0</td>\n",
              "      <td>...</td>\n",
              "      <td>0.0</td>\n",
              "      <td>0.0</td>\n",
              "      <td>0.653595</td>\n",
              "      <td>0.0</td>\n",
              "      <td>0.653595</td>\n",
              "      <td>0.0</td>\n",
              "      <td>1.30719</td>\n",
              "      <td>0.0</td>\n",
              "      <td>0.980392</td>\n",
              "      <td>0.326797</td>\n",
              "      <td>1.633987</td>\n",
              "      <td>0.0</td>\n",
              "      <td>0.0</td>\n",
              "      <td>1.30719</td>\n",
              "      <td>0.653595</td>\n",
              "      <td>0.326797</td>\n",
              "      <td>0.980392</td>\n",
              "      <td>0.0</td>\n",
              "      <td>0.653595</td>\n",
              "      <td>0.326797</td>\n",
              "      <td>0.0</td>\n",
              "      <td>0.326797</td>\n",
              "      <td>0.0</td>\n",
              "      <td>0.326797</td>\n",
              "      <td>0.326797</td>\n",
              "      <td>0.0</td>\n",
              "      <td>0.0</td>\n",
              "      <td>0.980392</td>\n",
              "      <td>0.326797</td>\n",
              "      <td>1.633987</td>\n",
              "      <td>0.326797</td>\n",
              "      <td>0.326797</td>\n",
              "      <td>0.326797</td>\n",
              "      <td>0.0</td>\n",
              "      <td>0.0</td>\n",
              "      <td>0.0</td>\n",
              "      <td>0.326797</td>\n",
              "      <td>0.0</td>\n",
              "      <td>0.326797</td>\n",
              "      <td>5.17</td>\n",
              "    </tr>\n",
              "    <tr>\n",
              "      <th>CHEMBL4212620</th>\n",
              "      <td>0</td>\n",
              "      <td>1</td>\n",
              "      <td>0</td>\n",
              "      <td>0</td>\n",
              "      <td>0</td>\n",
              "      <td>0</td>\n",
              "      <td>0</td>\n",
              "      <td>0</td>\n",
              "      <td>0</td>\n",
              "      <td>1</td>\n",
              "      <td>1</td>\n",
              "      <td>0</td>\n",
              "      <td>0</td>\n",
              "      <td>0</td>\n",
              "      <td>0</td>\n",
              "      <td>0</td>\n",
              "      <td>0</td>\n",
              "      <td>0</td>\n",
              "      <td>0</td>\n",
              "      <td>0</td>\n",
              "      <td>0</td>\n",
              "      <td>0</td>\n",
              "      <td>0</td>\n",
              "      <td>0</td>\n",
              "      <td>0</td>\n",
              "      <td>0</td>\n",
              "      <td>0</td>\n",
              "      <td>0</td>\n",
              "      <td>0</td>\n",
              "      <td>0</td>\n",
              "      <td>1</td>\n",
              "      <td>0</td>\n",
              "      <td>1</td>\n",
              "      <td>0</td>\n",
              "      <td>0</td>\n",
              "      <td>1</td>\n",
              "      <td>0</td>\n",
              "      <td>1</td>\n",
              "      <td>0</td>\n",
              "      <td>0</td>\n",
              "      <td>...</td>\n",
              "      <td>0.0</td>\n",
              "      <td>0.0</td>\n",
              "      <td>0.653595</td>\n",
              "      <td>0.0</td>\n",
              "      <td>0.653595</td>\n",
              "      <td>0.0</td>\n",
              "      <td>1.30719</td>\n",
              "      <td>0.0</td>\n",
              "      <td>0.980392</td>\n",
              "      <td>0.326797</td>\n",
              "      <td>1.633987</td>\n",
              "      <td>0.0</td>\n",
              "      <td>0.0</td>\n",
              "      <td>1.30719</td>\n",
              "      <td>0.653595</td>\n",
              "      <td>0.326797</td>\n",
              "      <td>0.980392</td>\n",
              "      <td>0.0</td>\n",
              "      <td>0.653595</td>\n",
              "      <td>0.326797</td>\n",
              "      <td>0.0</td>\n",
              "      <td>0.326797</td>\n",
              "      <td>0.0</td>\n",
              "      <td>0.326797</td>\n",
              "      <td>0.326797</td>\n",
              "      <td>0.0</td>\n",
              "      <td>0.0</td>\n",
              "      <td>0.980392</td>\n",
              "      <td>0.326797</td>\n",
              "      <td>1.633987</td>\n",
              "      <td>0.326797</td>\n",
              "      <td>0.326797</td>\n",
              "      <td>0.326797</td>\n",
              "      <td>0.0</td>\n",
              "      <td>0.0</td>\n",
              "      <td>0.0</td>\n",
              "      <td>0.326797</td>\n",
              "      <td>0.0</td>\n",
              "      <td>0.326797</td>\n",
              "      <td>5.26</td>\n",
              "    </tr>\n",
              "  </tbody>\n",
              "</table>\n",
              "<p>2 rows × 823 columns</p>\n",
              "</div>"
            ],
            "text/plain": [
              "               bit0  bit1  bit2  bit3  ...     dp396  dp397     dp398  activity\n",
              "compound                               ...                                     \n",
              "CHEMBL4216101     0     1     0     0  ...  0.326797    0.0  0.326797      5.17\n",
              "CHEMBL4212620     0     1     0     0  ...  0.326797    0.0  0.326797      5.26\n",
              "\n",
              "[2 rows x 823 columns]"
            ]
          },
          "metadata": {
            "tags": []
          },
          "execution_count": 3
        }
      ]
    },
    {
      "cell_type": "code",
      "metadata": {
        "colab": {
          "base_uri": "https://localhost:8080/"
        },
        "id": "igvaOia0pELq",
        "outputId": "ebef76c5-7875-43fe-bf8a-f2651c6cdfd0"
      },
      "source": [
        "%cd \"master/\""
      ],
      "execution_count": 4,
      "outputs": [
        {
          "output_type": "stream",
          "text": [
            "/content/gdrive/My Drive/active/master\n"
          ],
          "name": "stdout"
        }
      ]
    },
    {
      "cell_type": "code",
      "metadata": {
        "id": "SSgJddu1pctH"
      },
      "source": [
        ""
      ],
      "execution_count": null,
      "outputs": []
    },
    {
      "cell_type": "code",
      "metadata": {
        "id": "OlSLbRjNpENl"
      },
      "source": [
        "data = origdata.values\n",
        "X = data[:,:-1]\n",
        "y = data[:,-1]"
      ],
      "execution_count": 5,
      "outputs": []
    },
    {
      "cell_type": "code",
      "metadata": {
        "id": "Lx4gEKc6peRU"
      },
      "source": [
        "from sklearn import preprocessing\n",
        "normalizer = preprocessing.Normalizer().fit(X)\n",
        "X = normalizer.transform(X)"
      ],
      "execution_count": 6,
      "outputs": []
    },
    {
      "cell_type": "code",
      "metadata": {
        "colab": {
          "base_uri": "https://localhost:8080/",
          "height": 689
        },
        "id": "VJAi-Hh4pghf",
        "outputId": "b5ae6fb7-1e0e-4f58-e95c-1fe3dfce191b"
      },
      "source": [
        "from sklearn.decomposition import PCA\n",
        "# Define our PCA transformer and fit it onto our raw dataset.\n",
        "pca = PCA(n_components=1)\n",
        "transformed = pca.fit_transform(X=X)\n",
        "%matplotlib inline\n",
        "import matplotlib as mpl\n",
        "import matplotlib.pyplot as plt\n",
        "\n",
        "# Isolate the data we'll need for plotting.\n",
        "x_component = transformed[:, 0]\n",
        "\n",
        "# Plot our dimensionality-reduced (via PCA) dataset.\n",
        "plt.figure(figsize=(8.5, 6), dpi=130)\n",
        "plt.scatter(x=x_component, y=y, c=y, cmap='viridis', s=50, alpha=8/10)\n",
        "plt.title('after PCA transformation')\n",
        "plt.show()"
      ],
      "execution_count": 7,
      "outputs": [
        {
          "output_type": "display_data",
          "data": {
            "image/png": "[encoded data removed]",
            "text/plain": [
              "<Figure size 1105x780 with 1 Axes>"
            ]
          },
          "metadata": {
            "tags": [],
            "needs_background": "light"
          }
        }
      ]
    },
    {
      "cell_type": "code",
      "metadata": {
        "colab": {
          "base_uri": "https://localhost:8080/"
        },
        "id": "kbhLCsw1pERt",
        "outputId": "8a42319e-3a9c-4ae4-a4c5-de5cb26da0ea"
      },
      "source": [
        "from modAL.models import BayesianOptimizer\n",
        "from modAL.acquisition import max_EI\n",
        "from sklearn.gaussian_process import GaussianProcessRegressor\n",
        "from sklearn.gaussian_process.kernels import Matern\n",
        "import numpy as np\n",
        "\n",
        "n_initial = 120\n",
        "initial_idx = np.random.choice(range(len(X)), size=n_initial, replace=False)\n",
        "X_initial, y_initial = X[initial_idx], y[initial_idx]\n",
        "\n",
        "\n",
        "kernel = Matern(length_scale=1.0)\n",
        "regressor = GaussianProcessRegressor(kernel=kernel)\n",
        "\n",
        "optimizer = BayesianOptimizer(\n",
        "    estimator=regressor,\n",
        "    X_training=X_initial, y_training=y_initial,\n",
        "    query_strategy=max_EI\n",
        ")\n",
        "\n",
        "performance_history=[]\n",
        "# Bayesian optimization\n",
        "for n_query in range(75):\n",
        "    query_idx, query_inst = optimizer.query(X)\n",
        "    optimizer.teach(X[query_idx].reshape(1, -1), y[query_idx].reshape(1,))\n",
        "    model_accuracy = optimizer.score(X, y)\n",
        "    print('Accuracy after query {n}: {acc:0.4f}'.format(n=n_query + 1, acc=model_accuracy))\n",
        "    performance_history.append(model_accuracy)"
      ],
      "execution_count": 14,
      "outputs": [
        {
          "output_type": "stream",
          "text": [
            "/usr/local/lib/python3.7/dist-packages/sklearn/gaussian_process/_gpr.py:362: UserWarning: Predicted variances smaller than 0. Setting those variances to 0.\n",
            "  warnings.warn(\"Predicted variances smaller than 0. \"\n",
            "/content/gdrive/My Drive/active/master/modAL/acquisition.py:21: RuntimeWarning: divide by zero encountered in true_divide\n",
            "  z = (mean - max_val - tradeoff) / std\n",
            "/usr/local/lib/python3.7/dist-packages/sklearn/gaussian_process/_gpr.py:362: UserWarning: Predicted variances smaller than 0. Setting those variances to 0.\n",
            "  warnings.warn(\"Predicted variances smaller than 0. \"\n",
            "/content/gdrive/My Drive/active/master/modAL/acquisition.py:21: RuntimeWarning: divide by zero encountered in true_divide\n",
            "  z = (mean - max_val - tradeoff) / std\n"
          ],
          "name": "stderr"
        },
        {
          "output_type": "stream",
          "text": [
            "Accuracy after query 1: 0.7146\n"
          ],
          "name": "stdout"
        },
        {
          "output_type": "stream",
          "text": [
            "/usr/local/lib/python3.7/dist-packages/sklearn/gaussian_process/_gpr.py:494: ConvergenceWarning: lbfgs failed to converge (status=2):\n",
            "ABNORMAL_TERMINATION_IN_LNSRCH.\n",
            "\n",
            "Increase the number of iterations (max_iter) or scale the data as shown in:\n",
            "    https://scikit-learn.org/stable/modules/preprocessing.html\n",
            "  _check_optimize_result(\"lbfgs\", opt_res)\n",
            "/usr/local/lib/python3.7/dist-packages/sklearn/gaussian_process/_gpr.py:362: UserWarning: Predicted variances smaller than 0. Setting those variances to 0.\n",
            "  warnings.warn(\"Predicted variances smaller than 0. \"\n",
            "/content/gdrive/My Drive/active/master/modAL/acquisition.py:21: RuntimeWarning: divide by zero encountered in true_divide\n",
            "  z = (mean - max_val - tradeoff) / std\n"
          ],
          "name": "stderr"
        },
        {
          "output_type": "stream",
          "text": [
            "Accuracy after query 2: 0.8129\n"
          ],
          "name": "stdout"
        },
        {
          "output_type": "stream",
          "text": [
            "/usr/local/lib/python3.7/dist-packages/sklearn/gaussian_process/_gpr.py:494: ConvergenceWarning: lbfgs failed to converge (status=2):\n",
            "ABNORMAL_TERMINATION_IN_LNSRCH.\n",
            "\n",
            "Increase the number of iterations (max_iter) or scale the data as shown in:\n",
            "    https://scikit-learn.org/stable/modules/preprocessing.html\n",
            "  _check_optimize_result(\"lbfgs\", opt_res)\n",
            "/usr/local/lib/python3.7/dist-packages/sklearn/gaussian_process/_gpr.py:362: UserWarning: Predicted variances smaller than 0. Setting those variances to 0.\n",
            "  warnings.warn(\"Predicted variances smaller than 0. \"\n",
            "/content/gdrive/My Drive/active/master/modAL/acquisition.py:21: RuntimeWarning: divide by zero encountered in true_divide\n",
            "  z = (mean - max_val - tradeoff) / std\n"
          ],
          "name": "stderr"
        },
        {
          "output_type": "stream",
          "text": [
            "Accuracy after query 3: 0.8370\n",
            "Accuracy after query 4: 0.8442\n"
          ],
          "name": "stdout"
        },
        {
          "output_type": "stream",
          "text": [
            "/usr/local/lib/python3.7/dist-packages/sklearn/gaussian_process/_gpr.py:362: UserWarning: Predicted variances smaller than 0. Setting those variances to 0.\n",
            "  warnings.warn(\"Predicted variances smaller than 0. \"\n",
            "/content/gdrive/My Drive/active/master/modAL/acquisition.py:21: RuntimeWarning: divide by zero encountered in true_divide\n",
            "  z = (mean - max_val - tradeoff) / std\n",
            "/usr/local/lib/python3.7/dist-packages/sklearn/gaussian_process/_gpr.py:494: ConvergenceWarning: lbfgs failed to converge (status=2):\n",
            "ABNORMAL_TERMINATION_IN_LNSRCH.\n",
            "\n",
            "Increase the number of iterations (max_iter) or scale the data as shown in:\n",
            "    https://scikit-learn.org/stable/modules/preprocessing.html\n",
            "  _check_optimize_result(\"lbfgs\", opt_res)\n",
            "/usr/local/lib/python3.7/dist-packages/sklearn/gaussian_process/_gpr.py:362: UserWarning: Predicted variances smaller than 0. Setting those variances to 0.\n",
            "  warnings.warn(\"Predicted variances smaller than 0. \"\n",
            "/content/gdrive/My Drive/active/master/modAL/acquisition.py:21: RuntimeWarning: divide by zero encountered in true_divide\n",
            "  z = (mean - max_val - tradeoff) / std\n"
          ],
          "name": "stderr"
        },
        {
          "output_type": "stream",
          "text": [
            "Accuracy after query 5: 0.8461\n"
          ],
          "name": "stdout"
        },
        {
          "output_type": "stream",
          "text": [
            "/usr/local/lib/python3.7/dist-packages/sklearn/gaussian_process/_gpr.py:494: ConvergenceWarning: lbfgs failed to converge (status=2):\n",
            "ABNORMAL_TERMINATION_IN_LNSRCH.\n",
            "\n",
            "Increase the number of iterations (max_iter) or scale the data as shown in:\n",
            "    https://scikit-learn.org/stable/modules/preprocessing.html\n",
            "  _check_optimize_result(\"lbfgs\", opt_res)\n",
            "/usr/local/lib/python3.7/dist-packages/sklearn/gaussian_process/_gpr.py:362: UserWarning: Predicted variances smaller than 0. Setting those variances to 0.\n",
            "  warnings.warn(\"Predicted variances smaller than 0. \"\n",
            "/content/gdrive/My Drive/active/master/modAL/acquisition.py:21: RuntimeWarning: divide by zero encountered in true_divide\n",
            "  z = (mean - max_val - tradeoff) / std\n"
          ],
          "name": "stderr"
        },
        {
          "output_type": "stream",
          "text": [
            "Accuracy after query 6: 0.8800\n"
          ],
          "name": "stdout"
        },
        {
          "output_type": "stream",
          "text": [
            "/usr/local/lib/python3.7/dist-packages/sklearn/gaussian_process/_gpr.py:494: ConvergenceWarning: lbfgs failed to converge (status=2):\n",
            "ABNORMAL_TERMINATION_IN_LNSRCH.\n",
            "\n",
            "Increase the number of iterations (max_iter) or scale the data as shown in:\n",
            "    https://scikit-learn.org/stable/modules/preprocessing.html\n",
            "  _check_optimize_result(\"lbfgs\", opt_res)\n",
            "/usr/local/lib/python3.7/dist-packages/sklearn/gaussian_process/_gpr.py:362: UserWarning: Predicted variances smaller than 0. Setting those variances to 0.\n",
            "  warnings.warn(\"Predicted variances smaller than 0. \"\n",
            "/content/gdrive/My Drive/active/master/modAL/acquisition.py:21: RuntimeWarning: divide by zero encountered in true_divide\n",
            "  z = (mean - max_val - tradeoff) / std\n"
          ],
          "name": "stderr"
        },
        {
          "output_type": "stream",
          "text": [
            "Accuracy after query 7: 0.8793\n",
            "Accuracy after query 8: 0.8794\n"
          ],
          "name": "stdout"
        },
        {
          "output_type": "stream",
          "text": [
            "/usr/local/lib/python3.7/dist-packages/sklearn/gaussian_process/_gpr.py:362: UserWarning: Predicted variances smaller than 0. Setting those variances to 0.\n",
            "  warnings.warn(\"Predicted variances smaller than 0. \"\n",
            "/content/gdrive/My Drive/active/master/modAL/acquisition.py:21: RuntimeWarning: divide by zero encountered in true_divide\n",
            "  z = (mean - max_val - tradeoff) / std\n"
          ],
          "name": "stderr"
        },
        {
          "output_type": "stream",
          "text": [
            "Accuracy after query 9: 0.8793\n"
          ],
          "name": "stdout"
        },
        {
          "output_type": "stream",
          "text": [
            "/usr/local/lib/python3.7/dist-packages/sklearn/gaussian_process/_gpr.py:362: UserWarning: Predicted variances smaller than 0. Setting those variances to 0.\n",
            "  warnings.warn(\"Predicted variances smaller than 0. \"\n",
            "/content/gdrive/My Drive/active/master/modAL/acquisition.py:21: RuntimeWarning: divide by zero encountered in true_divide\n",
            "  z = (mean - max_val - tradeoff) / std\n",
            "/usr/local/lib/python3.7/dist-packages/sklearn/gaussian_process/_gpr.py:494: ConvergenceWarning: lbfgs failed to converge (status=2):\n",
            "ABNORMAL_TERMINATION_IN_LNSRCH.\n",
            "\n",
            "Increase the number of iterations (max_iter) or scale the data as shown in:\n",
            "    https://scikit-learn.org/stable/modules/preprocessing.html\n",
            "  _check_optimize_result(\"lbfgs\", opt_res)\n",
            "/usr/local/lib/python3.7/dist-packages/sklearn/gaussian_process/_gpr.py:362: UserWarning: Predicted variances smaller than 0. Setting those variances to 0.\n",
            "  warnings.warn(\"Predicted variances smaller than 0. \"\n",
            "/content/gdrive/My Drive/active/master/modAL/acquisition.py:21: RuntimeWarning: divide by zero encountered in true_divide\n",
            "  z = (mean - max_val - tradeoff) / std\n"
          ],
          "name": "stderr"
        },
        {
          "output_type": "stream",
          "text": [
            "Accuracy after query 10: 0.8801\n",
            "Accuracy after query 11: 0.8794\n"
          ],
          "name": "stdout"
        },
        {
          "output_type": "stream",
          "text": [
            "/usr/local/lib/python3.7/dist-packages/sklearn/gaussian_process/_gpr.py:362: UserWarning: Predicted variances smaller than 0. Setting those variances to 0.\n",
            "  warnings.warn(\"Predicted variances smaller than 0. \"\n",
            "/content/gdrive/My Drive/active/master/modAL/acquisition.py:21: RuntimeWarning: divide by zero encountered in true_divide\n",
            "  z = (mean - max_val - tradeoff) / std\n",
            "/usr/local/lib/python3.7/dist-packages/sklearn/gaussian_process/_gpr.py:494: ConvergenceWarning: lbfgs failed to converge (status=2):\n",
            "ABNORMAL_TERMINATION_IN_LNSRCH.\n",
            "\n",
            "Increase the number of iterations (max_iter) or scale the data as shown in:\n",
            "    https://scikit-learn.org/stable/modules/preprocessing.html\n",
            "  _check_optimize_result(\"lbfgs\", opt_res)\n",
            "/usr/local/lib/python3.7/dist-packages/sklearn/gaussian_process/_gpr.py:362: UserWarning: Predicted variances smaller than 0. Setting those variances to 0.\n",
            "  warnings.warn(\"Predicted variances smaller than 0. \"\n",
            "/content/gdrive/My Drive/active/master/modAL/acquisition.py:21: RuntimeWarning: divide by zero encountered in true_divide\n",
            "  z = (mean - max_val - tradeoff) / std\n"
          ],
          "name": "stderr"
        },
        {
          "output_type": "stream",
          "text": [
            "Accuracy after query 12: 0.8808\n",
            "Accuracy after query 13: 0.8817\n"
          ],
          "name": "stdout"
        },
        {
          "output_type": "stream",
          "text": [
            "/usr/local/lib/python3.7/dist-packages/sklearn/gaussian_process/_gpr.py:362: UserWarning: Predicted variances smaller than 0. Setting those variances to 0.\n",
            "  warnings.warn(\"Predicted variances smaller than 0. \"\n",
            "/content/gdrive/My Drive/active/master/modAL/acquisition.py:21: RuntimeWarning: divide by zero encountered in true_divide\n",
            "  z = (mean - max_val - tradeoff) / std\n",
            "/usr/local/lib/python3.7/dist-packages/sklearn/gaussian_process/_gpr.py:494: ConvergenceWarning: lbfgs failed to converge (status=2):\n",
            "ABNORMAL_TERMINATION_IN_LNSRCH.\n",
            "\n",
            "Increase the number of iterations (max_iter) or scale the data as shown in:\n",
            "    https://scikit-learn.org/stable/modules/preprocessing.html\n",
            "  _check_optimize_result(\"lbfgs\", opt_res)\n",
            "/usr/local/lib/python3.7/dist-packages/sklearn/gaussian_process/_gpr.py:362: UserWarning: Predicted variances smaller than 0. Setting those variances to 0.\n",
            "  warnings.warn(\"Predicted variances smaller than 0. \"\n",
            "/content/gdrive/My Drive/active/master/modAL/acquisition.py:21: RuntimeWarning: divide by zero encountered in true_divide\n",
            "  z = (mean - max_val - tradeoff) / std\n"
          ],
          "name": "stderr"
        },
        {
          "output_type": "stream",
          "text": [
            "Accuracy after query 14: 0.8825\n"
          ],
          "name": "stdout"
        },
        {
          "output_type": "stream",
          "text": [
            "/usr/local/lib/python3.7/dist-packages/sklearn/gaussian_process/_gpr.py:494: ConvergenceWarning: lbfgs failed to converge (status=2):\n",
            "ABNORMAL_TERMINATION_IN_LNSRCH.\n",
            "\n",
            "Increase the number of iterations (max_iter) or scale the data as shown in:\n",
            "    https://scikit-learn.org/stable/modules/preprocessing.html\n",
            "  _check_optimize_result(\"lbfgs\", opt_res)\n",
            "/usr/local/lib/python3.7/dist-packages/sklearn/gaussian_process/_gpr.py:362: UserWarning: Predicted variances smaller than 0. Setting those variances to 0.\n",
            "  warnings.warn(\"Predicted variances smaller than 0. \"\n",
            "/content/gdrive/My Drive/active/master/modAL/acquisition.py:21: RuntimeWarning: divide by zero encountered in true_divide\n",
            "  z = (mean - max_val - tradeoff) / std\n"
          ],
          "name": "stderr"
        },
        {
          "output_type": "stream",
          "text": [
            "Accuracy after query 15: 0.8744\n",
            "Accuracy after query 16: 0.8828\n"
          ],
          "name": "stdout"
        },
        {
          "output_type": "stream",
          "text": [
            "/usr/local/lib/python3.7/dist-packages/sklearn/gaussian_process/_gpr.py:362: UserWarning: Predicted variances smaller than 0. Setting those variances to 0.\n",
            "  warnings.warn(\"Predicted variances smaller than 0. \"\n",
            "/content/gdrive/My Drive/active/master/modAL/acquisition.py:21: RuntimeWarning: divide by zero encountered in true_divide\n",
            "  z = (mean - max_val - tradeoff) / std\n",
            "/usr/local/lib/python3.7/dist-packages/sklearn/gaussian_process/_gpr.py:494: ConvergenceWarning: lbfgs failed to converge (status=2):\n",
            "ABNORMAL_TERMINATION_IN_LNSRCH.\n",
            "\n",
            "Increase the number of iterations (max_iter) or scale the data as shown in:\n",
            "    https://scikit-learn.org/stable/modules/preprocessing.html\n",
            "  _check_optimize_result(\"lbfgs\", opt_res)\n",
            "/usr/local/lib/python3.7/dist-packages/sklearn/gaussian_process/_gpr.py:362: UserWarning: Predicted variances smaller than 0. Setting those variances to 0.\n",
            "  warnings.warn(\"Predicted variances smaller than 0. \"\n",
            "/content/gdrive/My Drive/active/master/modAL/acquisition.py:21: RuntimeWarning: divide by zero encountered in true_divide\n",
            "  z = (mean - max_val - tradeoff) / std\n"
          ],
          "name": "stderr"
        },
        {
          "output_type": "stream",
          "text": [
            "Accuracy after query 17: 0.8818\n",
            "Accuracy after query 18: 0.8829\n"
          ],
          "name": "stdout"
        },
        {
          "output_type": "stream",
          "text": [
            "/usr/local/lib/python3.7/dist-packages/sklearn/gaussian_process/_gpr.py:362: UserWarning: Predicted variances smaller than 0. Setting those variances to 0.\n",
            "  warnings.warn(\"Predicted variances smaller than 0. \"\n",
            "/content/gdrive/My Drive/active/master/modAL/acquisition.py:21: RuntimeWarning: divide by zero encountered in true_divide\n",
            "  z = (mean - max_val - tradeoff) / std\n",
            "/usr/local/lib/python3.7/dist-packages/sklearn/gaussian_process/_gpr.py:494: ConvergenceWarning: lbfgs failed to converge (status=2):\n",
            "ABNORMAL_TERMINATION_IN_LNSRCH.\n",
            "\n",
            "Increase the number of iterations (max_iter) or scale the data as shown in:\n",
            "    https://scikit-learn.org/stable/modules/preprocessing.html\n",
            "  _check_optimize_result(\"lbfgs\", opt_res)\n",
            "/usr/local/lib/python3.7/dist-packages/sklearn/gaussian_process/_gpr.py:362: UserWarning: Predicted variances smaller than 0. Setting those variances to 0.\n",
            "  warnings.warn(\"Predicted variances smaller than 0. \"\n",
            "/content/gdrive/My Drive/active/master/modAL/acquisition.py:21: RuntimeWarning: divide by zero encountered in true_divide\n",
            "  z = (mean - max_val - tradeoff) / std\n"
          ],
          "name": "stderr"
        },
        {
          "output_type": "stream",
          "text": [
            "Accuracy after query 19: 0.8832\n",
            "Accuracy after query 20: 0.8864\n"
          ],
          "name": "stdout"
        },
        {
          "output_type": "stream",
          "text": [
            "/usr/local/lib/python3.7/dist-packages/sklearn/gaussian_process/_gpr.py:362: UserWarning: Predicted variances smaller than 0. Setting those variances to 0.\n",
            "  warnings.warn(\"Predicted variances smaller than 0. \"\n",
            "/content/gdrive/My Drive/active/master/modAL/acquisition.py:21: RuntimeWarning: divide by zero encountered in true_divide\n",
            "  z = (mean - max_val - tradeoff) / std\n"
          ],
          "name": "stderr"
        },
        {
          "output_type": "stream",
          "text": [
            "Accuracy after query 21: 0.8864\n"
          ],
          "name": "stdout"
        },
        {
          "output_type": "stream",
          "text": [
            "/usr/local/lib/python3.7/dist-packages/sklearn/gaussian_process/_gpr.py:362: UserWarning: Predicted variances smaller than 0. Setting those variances to 0.\n",
            "  warnings.warn(\"Predicted variances smaller than 0. \"\n",
            "/content/gdrive/My Drive/active/master/modAL/acquisition.py:21: RuntimeWarning: divide by zero encountered in true_divide\n",
            "  z = (mean - max_val - tradeoff) / std\n"
          ],
          "name": "stderr"
        },
        {
          "output_type": "stream",
          "text": [
            "Accuracy after query 22: 0.8866\n"
          ],
          "name": "stdout"
        },
        {
          "output_type": "stream",
          "text": [
            "/usr/local/lib/python3.7/dist-packages/sklearn/gaussian_process/_gpr.py:362: UserWarning: Predicted variances smaller than 0. Setting those variances to 0.\n",
            "  warnings.warn(\"Predicted variances smaller than 0. \"\n",
            "/content/gdrive/My Drive/active/master/modAL/acquisition.py:21: RuntimeWarning: divide by zero encountered in true_divide\n",
            "  z = (mean - max_val - tradeoff) / std\n",
            "/usr/local/lib/python3.7/dist-packages/sklearn/gaussian_process/_gpr.py:494: ConvergenceWarning: lbfgs failed to converge (status=2):\n",
            "ABNORMAL_TERMINATION_IN_LNSRCH.\n",
            "\n",
            "Increase the number of iterations (max_iter) or scale the data as shown in:\n",
            "    https://scikit-learn.org/stable/modules/preprocessing.html\n",
            "  _check_optimize_result(\"lbfgs\", opt_res)\n",
            "/usr/local/lib/python3.7/dist-packages/sklearn/gaussian_process/_gpr.py:362: UserWarning: Predicted variances smaller than 0. Setting those variances to 0.\n",
            "  warnings.warn(\"Predicted variances smaller than 0. \"\n",
            "/content/gdrive/My Drive/active/master/modAL/acquisition.py:21: RuntimeWarning: divide by zero encountered in true_divide\n",
            "  z = (mean - max_val - tradeoff) / std\n"
          ],
          "name": "stderr"
        },
        {
          "output_type": "stream",
          "text": [
            "Accuracy after query 23: 0.8865\n",
            "Accuracy after query 24: 0.8866\n"
          ],
          "name": "stdout"
        },
        {
          "output_type": "stream",
          "text": [
            "/usr/local/lib/python3.7/dist-packages/sklearn/gaussian_process/_gpr.py:362: UserWarning: Predicted variances smaller than 0. Setting those variances to 0.\n",
            "  warnings.warn(\"Predicted variances smaller than 0. \"\n",
            "/content/gdrive/My Drive/active/master/modAL/acquisition.py:21: RuntimeWarning: divide by zero encountered in true_divide\n",
            "  z = (mean - max_val - tradeoff) / std\n"
          ],
          "name": "stderr"
        },
        {
          "output_type": "stream",
          "text": [
            "Accuracy after query 25: 0.8865\n"
          ],
          "name": "stdout"
        },
        {
          "output_type": "stream",
          "text": [
            "/usr/local/lib/python3.7/dist-packages/sklearn/gaussian_process/_gpr.py:362: UserWarning: Predicted variances smaller than 0. Setting those variances to 0.\n",
            "  warnings.warn(\"Predicted variances smaller than 0. \"\n",
            "/content/gdrive/My Drive/active/master/modAL/acquisition.py:21: RuntimeWarning: divide by zero encountered in true_divide\n",
            "  z = (mean - max_val - tradeoff) / std\n"
          ],
          "name": "stderr"
        },
        {
          "output_type": "stream",
          "text": [
            "Accuracy after query 26: 0.8864\n"
          ],
          "name": "stdout"
        },
        {
          "output_type": "stream",
          "text": [
            "/usr/local/lib/python3.7/dist-packages/sklearn/gaussian_process/_gpr.py:362: UserWarning: Predicted variances smaller than 0. Setting those variances to 0.\n",
            "  warnings.warn(\"Predicted variances smaller than 0. \"\n",
            "/content/gdrive/My Drive/active/master/modAL/acquisition.py:21: RuntimeWarning: divide by zero encountered in true_divide\n",
            "  z = (mean - max_val - tradeoff) / std\n"
          ],
          "name": "stderr"
        },
        {
          "output_type": "stream",
          "text": [
            "Accuracy after query 27: 0.8865\n"
          ],
          "name": "stdout"
        },
        {
          "output_type": "stream",
          "text": [
            "/usr/local/lib/python3.7/dist-packages/sklearn/gaussian_process/_gpr.py:362: UserWarning: Predicted variances smaller than 0. Setting those variances to 0.\n",
            "  warnings.warn(\"Predicted variances smaller than 0. \"\n",
            "/content/gdrive/My Drive/active/master/modAL/acquisition.py:21: RuntimeWarning: divide by zero encountered in true_divide\n",
            "  z = (mean - max_val - tradeoff) / std\n"
          ],
          "name": "stderr"
        },
        {
          "output_type": "stream",
          "text": [
            "Accuracy after query 28: 0.8847\n"
          ],
          "name": "stdout"
        },
        {
          "output_type": "stream",
          "text": [
            "/usr/local/lib/python3.7/dist-packages/sklearn/gaussian_process/_gpr.py:362: UserWarning: Predicted variances smaller than 0. Setting those variances to 0.\n",
            "  warnings.warn(\"Predicted variances smaller than 0. \"\n",
            "/content/gdrive/My Drive/active/master/modAL/acquisition.py:21: RuntimeWarning: divide by zero encountered in true_divide\n",
            "  z = (mean - max_val - tradeoff) / std\n",
            "/usr/local/lib/python3.7/dist-packages/sklearn/gaussian_process/_gpr.py:494: ConvergenceWarning: lbfgs failed to converge (status=2):\n",
            "ABNORMAL_TERMINATION_IN_LNSRCH.\n",
            "\n",
            "Increase the number of iterations (max_iter) or scale the data as shown in:\n",
            "    https://scikit-learn.org/stable/modules/preprocessing.html\n",
            "  _check_optimize_result(\"lbfgs\", opt_res)\n",
            "/usr/local/lib/python3.7/dist-packages/sklearn/gaussian_process/_gpr.py:362: UserWarning: Predicted variances smaller than 0. Setting those variances to 0.\n",
            "  warnings.warn(\"Predicted variances smaller than 0. \"\n",
            "/content/gdrive/My Drive/active/master/modAL/acquisition.py:21: RuntimeWarning: divide by zero encountered in true_divide\n",
            "  z = (mean - max_val - tradeoff) / std\n"
          ],
          "name": "stderr"
        },
        {
          "output_type": "stream",
          "text": [
            "Accuracy after query 29: 0.8895\n",
            "Accuracy after query 30: 0.8888\n"
          ],
          "name": "stdout"
        },
        {
          "output_type": "stream",
          "text": [
            "/usr/local/lib/python3.7/dist-packages/sklearn/gaussian_process/_gpr.py:362: UserWarning: Predicted variances smaller than 0. Setting those variances to 0.\n",
            "  warnings.warn(\"Predicted variances smaller than 0. \"\n",
            "/content/gdrive/My Drive/active/master/modAL/acquisition.py:21: RuntimeWarning: divide by zero encountered in true_divide\n",
            "  z = (mean - max_val - tradeoff) / std\n"
          ],
          "name": "stderr"
        },
        {
          "output_type": "stream",
          "text": [
            "Accuracy after query 31: 0.8892\n",
            "Accuracy after query 32: 0.8891\n"
          ],
          "name": "stdout"
        },
        {
          "output_type": "stream",
          "text": [
            "/usr/local/lib/python3.7/dist-packages/sklearn/gaussian_process/_gpr.py:362: UserWarning: Predicted variances smaller than 0. Setting those variances to 0.\n",
            "  warnings.warn(\"Predicted variances smaller than 0. \"\n",
            "/content/gdrive/My Drive/active/master/modAL/acquisition.py:21: RuntimeWarning: divide by zero encountered in true_divide\n",
            "  z = (mean - max_val - tradeoff) / std\n",
            "/usr/local/lib/python3.7/dist-packages/sklearn/gaussian_process/_gpr.py:494: ConvergenceWarning: lbfgs failed to converge (status=2):\n",
            "ABNORMAL_TERMINATION_IN_LNSRCH.\n",
            "\n",
            "Increase the number of iterations (max_iter) or scale the data as shown in:\n",
            "    https://scikit-learn.org/stable/modules/preprocessing.html\n",
            "  _check_optimize_result(\"lbfgs\", opt_res)\n",
            "/usr/local/lib/python3.7/dist-packages/sklearn/gaussian_process/_gpr.py:362: UserWarning: Predicted variances smaller than 0. Setting those variances to 0.\n",
            "  warnings.warn(\"Predicted variances smaller than 0. \"\n",
            "/content/gdrive/My Drive/active/master/modAL/acquisition.py:21: RuntimeWarning: divide by zero encountered in true_divide\n",
            "  z = (mean - max_val - tradeoff) / std\n"
          ],
          "name": "stderr"
        },
        {
          "output_type": "stream",
          "text": [
            "Accuracy after query 33: 0.8892\n",
            "Accuracy after query 34: 0.8889\n"
          ],
          "name": "stdout"
        },
        {
          "output_type": "stream",
          "text": [
            "/usr/local/lib/python3.7/dist-packages/sklearn/gaussian_process/_gpr.py:362: UserWarning: Predicted variances smaller than 0. Setting those variances to 0.\n",
            "  warnings.warn(\"Predicted variances smaller than 0. \"\n",
            "/content/gdrive/My Drive/active/master/modAL/acquisition.py:21: RuntimeWarning: divide by zero encountered in true_divide\n",
            "  z = (mean - max_val - tradeoff) / std\n"
          ],
          "name": "stderr"
        },
        {
          "output_type": "stream",
          "text": [
            "Accuracy after query 35: 0.8887\n"
          ],
          "name": "stdout"
        },
        {
          "output_type": "stream",
          "text": [
            "/usr/local/lib/python3.7/dist-packages/sklearn/gaussian_process/_gpr.py:362: UserWarning: Predicted variances smaller than 0. Setting those variances to 0.\n",
            "  warnings.warn(\"Predicted variances smaller than 0. \"\n",
            "/content/gdrive/My Drive/active/master/modAL/acquisition.py:21: RuntimeWarning: divide by zero encountered in true_divide\n",
            "  z = (mean - max_val - tradeoff) / std\n"
          ],
          "name": "stderr"
        },
        {
          "output_type": "stream",
          "text": [
            "Accuracy after query 36: 0.8889\n"
          ],
          "name": "stdout"
        },
        {
          "output_type": "stream",
          "text": [
            "/usr/local/lib/python3.7/dist-packages/sklearn/gaussian_process/_gpr.py:362: UserWarning: Predicted variances smaller than 0. Setting those variances to 0.\n",
            "  warnings.warn(\"Predicted variances smaller than 0. \"\n",
            "/content/gdrive/My Drive/active/master/modAL/acquisition.py:21: RuntimeWarning: divide by zero encountered in true_divide\n",
            "  z = (mean - max_val - tradeoff) / std\n"
          ],
          "name": "stderr"
        },
        {
          "output_type": "stream",
          "text": [
            "Accuracy after query 37: 0.8896\n"
          ],
          "name": "stdout"
        },
        {
          "output_type": "stream",
          "text": [
            "/usr/local/lib/python3.7/dist-packages/sklearn/gaussian_process/_gpr.py:362: UserWarning: Predicted variances smaller than 0. Setting those variances to 0.\n",
            "  warnings.warn(\"Predicted variances smaller than 0. \"\n",
            "/content/gdrive/My Drive/active/master/modAL/acquisition.py:21: RuntimeWarning: divide by zero encountered in true_divide\n",
            "  z = (mean - max_val - tradeoff) / std\n"
          ],
          "name": "stderr"
        },
        {
          "output_type": "stream",
          "text": [
            "Accuracy after query 38: 0.8895\n"
          ],
          "name": "stdout"
        },
        {
          "output_type": "stream",
          "text": [
            "/usr/local/lib/python3.7/dist-packages/sklearn/gaussian_process/_gpr.py:362: UserWarning: Predicted variances smaller than 0. Setting those variances to 0.\n",
            "  warnings.warn(\"Predicted variances smaller than 0. \"\n",
            "/content/gdrive/My Drive/active/master/modAL/acquisition.py:21: RuntimeWarning: divide by zero encountered in true_divide\n",
            "  z = (mean - max_val - tradeoff) / std\n"
          ],
          "name": "stderr"
        },
        {
          "output_type": "stream",
          "text": [
            "Accuracy after query 39: 0.8896\n"
          ],
          "name": "stdout"
        },
        {
          "output_type": "stream",
          "text": [
            "/usr/local/lib/python3.7/dist-packages/sklearn/gaussian_process/_gpr.py:362: UserWarning: Predicted variances smaller than 0. Setting those variances to 0.\n",
            "  warnings.warn(\"Predicted variances smaller than 0. \"\n",
            "/content/gdrive/My Drive/active/master/modAL/acquisition.py:21: RuntimeWarning: divide by zero encountered in true_divide\n",
            "  z = (mean - max_val - tradeoff) / std\n"
          ],
          "name": "stderr"
        },
        {
          "output_type": "stream",
          "text": [
            "Accuracy after query 40: 0.8895\n"
          ],
          "name": "stdout"
        },
        {
          "output_type": "stream",
          "text": [
            "/usr/local/lib/python3.7/dist-packages/sklearn/gaussian_process/_gpr.py:362: UserWarning: Predicted variances smaller than 0. Setting those variances to 0.\n",
            "  warnings.warn(\"Predicted variances smaller than 0. \"\n",
            "/content/gdrive/My Drive/active/master/modAL/acquisition.py:21: RuntimeWarning: divide by zero encountered in true_divide\n",
            "  z = (mean - max_val - tradeoff) / std\n",
            "/usr/local/lib/python3.7/dist-packages/sklearn/gaussian_process/_gpr.py:494: ConvergenceWarning: lbfgs failed to converge (status=2):\n",
            "ABNORMAL_TERMINATION_IN_LNSRCH.\n",
            "\n",
            "Increase the number of iterations (max_iter) or scale the data as shown in:\n",
            "    https://scikit-learn.org/stable/modules/preprocessing.html\n",
            "  _check_optimize_result(\"lbfgs\", opt_res)\n",
            "/usr/local/lib/python3.7/dist-packages/sklearn/gaussian_process/_gpr.py:362: UserWarning: Predicted variances smaller than 0. Setting those variances to 0.\n",
            "  warnings.warn(\"Predicted variances smaller than 0. \"\n",
            "/content/gdrive/My Drive/active/master/modAL/acquisition.py:21: RuntimeWarning: divide by zero encountered in true_divide\n",
            "  z = (mean - max_val - tradeoff) / std\n"
          ],
          "name": "stderr"
        },
        {
          "output_type": "stream",
          "text": [
            "Accuracy after query 41: 0.8941\n",
            "Accuracy after query 42: 0.8934\n"
          ],
          "name": "stdout"
        },
        {
          "output_type": "stream",
          "text": [
            "/usr/local/lib/python3.7/dist-packages/sklearn/gaussian_process/_gpr.py:362: UserWarning: Predicted variances smaller than 0. Setting those variances to 0.\n",
            "  warnings.warn(\"Predicted variances smaller than 0. \"\n",
            "/content/gdrive/My Drive/active/master/modAL/acquisition.py:21: RuntimeWarning: divide by zero encountered in true_divide\n",
            "  z = (mean - max_val - tradeoff) / std\n"
          ],
          "name": "stderr"
        },
        {
          "output_type": "stream",
          "text": [
            "Accuracy after query 43: 0.8939\n"
          ],
          "name": "stdout"
        },
        {
          "output_type": "stream",
          "text": [
            "/usr/local/lib/python3.7/dist-packages/sklearn/gaussian_process/_gpr.py:362: UserWarning: Predicted variances smaller than 0. Setting those variances to 0.\n",
            "  warnings.warn(\"Predicted variances smaller than 0. \"\n",
            "/content/gdrive/My Drive/active/master/modAL/acquisition.py:21: RuntimeWarning: divide by zero encountered in true_divide\n",
            "  z = (mean - max_val - tradeoff) / std\n"
          ],
          "name": "stderr"
        },
        {
          "output_type": "stream",
          "text": [
            "Accuracy after query 44: 0.8955\n"
          ],
          "name": "stdout"
        },
        {
          "output_type": "stream",
          "text": [
            "/usr/local/lib/python3.7/dist-packages/sklearn/gaussian_process/_gpr.py:494: ConvergenceWarning: lbfgs failed to converge (status=2):\n",
            "ABNORMAL_TERMINATION_IN_LNSRCH.\n",
            "\n",
            "Increase the number of iterations (max_iter) or scale the data as shown in:\n",
            "    https://scikit-learn.org/stable/modules/preprocessing.html\n",
            "  _check_optimize_result(\"lbfgs\", opt_res)\n",
            "/usr/local/lib/python3.7/dist-packages/sklearn/gaussian_process/_gpr.py:362: UserWarning: Predicted variances smaller than 0. Setting those variances to 0.\n",
            "  warnings.warn(\"Predicted variances smaller than 0. \"\n",
            "/content/gdrive/My Drive/active/master/modAL/acquisition.py:21: RuntimeWarning: divide by zero encountered in true_divide\n",
            "  z = (mean - max_val - tradeoff) / std\n"
          ],
          "name": "stderr"
        },
        {
          "output_type": "stream",
          "text": [
            "Accuracy after query 45: 0.8961\n",
            "Accuracy after query 46: 0.8960\n"
          ],
          "name": "stdout"
        },
        {
          "output_type": "stream",
          "text": [
            "/usr/local/lib/python3.7/dist-packages/sklearn/gaussian_process/_gpr.py:362: UserWarning: Predicted variances smaller than 0. Setting those variances to 0.\n",
            "  warnings.warn(\"Predicted variances smaller than 0. \"\n",
            "/content/gdrive/My Drive/active/master/modAL/acquisition.py:21: RuntimeWarning: divide by zero encountered in true_divide\n",
            "  z = (mean - max_val - tradeoff) / std\n"
          ],
          "name": "stderr"
        },
        {
          "output_type": "stream",
          "text": [
            "Accuracy after query 47: 0.8945\n"
          ],
          "name": "stdout"
        },
        {
          "output_type": "stream",
          "text": [
            "/usr/local/lib/python3.7/dist-packages/sklearn/gaussian_process/_gpr.py:362: UserWarning: Predicted variances smaller than 0. Setting those variances to 0.\n",
            "  warnings.warn(\"Predicted variances smaller than 0. \"\n",
            "/content/gdrive/My Drive/active/master/modAL/acquisition.py:21: RuntimeWarning: divide by zero encountered in true_divide\n",
            "  z = (mean - max_val - tradeoff) / std\n",
            "/usr/local/lib/python3.7/dist-packages/sklearn/gaussian_process/_gpr.py:494: ConvergenceWarning: lbfgs failed to converge (status=2):\n",
            "ABNORMAL_TERMINATION_IN_LNSRCH.\n",
            "\n",
            "Increase the number of iterations (max_iter) or scale the data as shown in:\n",
            "    https://scikit-learn.org/stable/modules/preprocessing.html\n",
            "  _check_optimize_result(\"lbfgs\", opt_res)\n",
            "/usr/local/lib/python3.7/dist-packages/sklearn/gaussian_process/_gpr.py:362: UserWarning: Predicted variances smaller than 0. Setting those variances to 0.\n",
            "  warnings.warn(\"Predicted variances smaller than 0. \"\n",
            "/content/gdrive/My Drive/active/master/modAL/acquisition.py:21: RuntimeWarning: divide by zero encountered in true_divide\n",
            "  z = (mean - max_val - tradeoff) / std\n"
          ],
          "name": "stderr"
        },
        {
          "output_type": "stream",
          "text": [
            "Accuracy after query 48: 0.8954\n"
          ],
          "name": "stdout"
        },
        {
          "output_type": "stream",
          "text": [
            "/usr/local/lib/python3.7/dist-packages/sklearn/gaussian_process/_gpr.py:494: ConvergenceWarning: lbfgs failed to converge (status=2):\n",
            "ABNORMAL_TERMINATION_IN_LNSRCH.\n",
            "\n",
            "Increase the number of iterations (max_iter) or scale the data as shown in:\n",
            "    https://scikit-learn.org/stable/modules/preprocessing.html\n",
            "  _check_optimize_result(\"lbfgs\", opt_res)\n",
            "/usr/local/lib/python3.7/dist-packages/sklearn/gaussian_process/_gpr.py:362: UserWarning: Predicted variances smaller than 0. Setting those variances to 0.\n",
            "  warnings.warn(\"Predicted variances smaller than 0. \"\n",
            "/content/gdrive/My Drive/active/master/modAL/acquisition.py:21: RuntimeWarning: divide by zero encountered in true_divide\n",
            "  z = (mean - max_val - tradeoff) / std\n"
          ],
          "name": "stderr"
        },
        {
          "output_type": "stream",
          "text": [
            "Accuracy after query 49: 0.8960\n"
          ],
          "name": "stdout"
        },
        {
          "output_type": "stream",
          "text": [
            "/usr/local/lib/python3.7/dist-packages/sklearn/gaussian_process/_gpr.py:494: ConvergenceWarning: lbfgs failed to converge (status=2):\n",
            "ABNORMAL_TERMINATION_IN_LNSRCH.\n",
            "\n",
            "Increase the number of iterations (max_iter) or scale the data as shown in:\n",
            "    https://scikit-learn.org/stable/modules/preprocessing.html\n",
            "  _check_optimize_result(\"lbfgs\", opt_res)\n",
            "/usr/local/lib/python3.7/dist-packages/sklearn/gaussian_process/_gpr.py:362: UserWarning: Predicted variances smaller than 0. Setting those variances to 0.\n",
            "  warnings.warn(\"Predicted variances smaller than 0. \"\n",
            "/content/gdrive/My Drive/active/master/modAL/acquisition.py:21: RuntimeWarning: divide by zero encountered in true_divide\n",
            "  z = (mean - max_val - tradeoff) / std\n"
          ],
          "name": "stderr"
        },
        {
          "output_type": "stream",
          "text": [
            "Accuracy after query 50: 0.8960\n",
            "Accuracy after query 51: 0.8958\n"
          ],
          "name": "stdout"
        },
        {
          "output_type": "stream",
          "text": [
            "/usr/local/lib/python3.7/dist-packages/sklearn/gaussian_process/_gpr.py:494: ConvergenceWarning: lbfgs failed to converge (status=2):\n",
            "ABNORMAL_TERMINATION_IN_LNSRCH.\n",
            "\n",
            "Increase the number of iterations (max_iter) or scale the data as shown in:\n",
            "    https://scikit-learn.org/stable/modules/preprocessing.html\n",
            "  _check_optimize_result(\"lbfgs\", opt_res)\n",
            "/usr/local/lib/python3.7/dist-packages/sklearn/gaussian_process/_gpr.py:362: UserWarning: Predicted variances smaller than 0. Setting those variances to 0.\n",
            "  warnings.warn(\"Predicted variances smaller than 0. \"\n",
            "/content/gdrive/My Drive/active/master/modAL/acquisition.py:21: RuntimeWarning: divide by zero encountered in true_divide\n",
            "  z = (mean - max_val - tradeoff) / std\n"
          ],
          "name": "stderr"
        },
        {
          "output_type": "stream",
          "text": [
            "Accuracy after query 52: 0.8960\n",
            "Accuracy after query 53: 0.8955\n"
          ],
          "name": "stdout"
        },
        {
          "output_type": "stream",
          "text": [
            "/usr/local/lib/python3.7/dist-packages/sklearn/gaussian_process/_gpr.py:362: UserWarning: Predicted variances smaller than 0. Setting those variances to 0.\n",
            "  warnings.warn(\"Predicted variances smaller than 0. \"\n",
            "/content/gdrive/My Drive/active/master/modAL/acquisition.py:21: RuntimeWarning: divide by zero encountered in true_divide\n",
            "  z = (mean - max_val - tradeoff) / std\n",
            "/usr/local/lib/python3.7/dist-packages/sklearn/gaussian_process/_gpr.py:494: ConvergenceWarning: lbfgs failed to converge (status=2):\n",
            "ABNORMAL_TERMINATION_IN_LNSRCH.\n",
            "\n",
            "Increase the number of iterations (max_iter) or scale the data as shown in:\n",
            "    https://scikit-learn.org/stable/modules/preprocessing.html\n",
            "  _check_optimize_result(\"lbfgs\", opt_res)\n",
            "/usr/local/lib/python3.7/dist-packages/sklearn/gaussian_process/_gpr.py:362: UserWarning: Predicted variances smaller than 0. Setting those variances to 0.\n",
            "  warnings.warn(\"Predicted variances smaller than 0. \"\n",
            "/content/gdrive/My Drive/active/master/modAL/acquisition.py:21: RuntimeWarning: divide by zero encountered in true_divide\n",
            "  z = (mean - max_val - tradeoff) / std\n"
          ],
          "name": "stderr"
        },
        {
          "output_type": "stream",
          "text": [
            "Accuracy after query 54: 0.8960\n",
            "Accuracy after query 55: 0.8962\n"
          ],
          "name": "stdout"
        },
        {
          "output_type": "stream",
          "text": [
            "/usr/local/lib/python3.7/dist-packages/sklearn/gaussian_process/_gpr.py:494: ConvergenceWarning: lbfgs failed to converge (status=2):\n",
            "ABNORMAL_TERMINATION_IN_LNSRCH.\n",
            "\n",
            "Increase the number of iterations (max_iter) or scale the data as shown in:\n",
            "    https://scikit-learn.org/stable/modules/preprocessing.html\n",
            "  _check_optimize_result(\"lbfgs\", opt_res)\n",
            "/usr/local/lib/python3.7/dist-packages/sklearn/gaussian_process/_gpr.py:362: UserWarning: Predicted variances smaller than 0. Setting those variances to 0.\n",
            "  warnings.warn(\"Predicted variances smaller than 0. \"\n",
            "/content/gdrive/My Drive/active/master/modAL/acquisition.py:21: RuntimeWarning: divide by zero encountered in true_divide\n",
            "  z = (mean - max_val - tradeoff) / std\n"
          ],
          "name": "stderr"
        },
        {
          "output_type": "stream",
          "text": [
            "Accuracy after query 56: 0.8956\n",
            "Accuracy after query 57: 0.8963\n"
          ],
          "name": "stdout"
        },
        {
          "output_type": "stream",
          "text": [
            "/usr/local/lib/python3.7/dist-packages/sklearn/gaussian_process/_gpr.py:362: UserWarning: Predicted variances smaller than 0. Setting those variances to 0.\n",
            "  warnings.warn(\"Predicted variances smaller than 0. \"\n",
            "/content/gdrive/My Drive/active/master/modAL/acquisition.py:21: RuntimeWarning: divide by zero encountered in true_divide\n",
            "  z = (mean - max_val - tradeoff) / std\n",
            "/usr/local/lib/python3.7/dist-packages/sklearn/gaussian_process/_gpr.py:494: ConvergenceWarning: lbfgs failed to converge (status=2):\n",
            "ABNORMAL_TERMINATION_IN_LNSRCH.\n",
            "\n",
            "Increase the number of iterations (max_iter) or scale the data as shown in:\n",
            "    https://scikit-learn.org/stable/modules/preprocessing.html\n",
            "  _check_optimize_result(\"lbfgs\", opt_res)\n",
            "/usr/local/lib/python3.7/dist-packages/sklearn/gaussian_process/_gpr.py:362: UserWarning: Predicted variances smaller than 0. Setting those variances to 0.\n",
            "  warnings.warn(\"Predicted variances smaller than 0. \"\n",
            "/content/gdrive/My Drive/active/master/modAL/acquisition.py:21: RuntimeWarning: divide by zero encountered in true_divide\n",
            "  z = (mean - max_val - tradeoff) / std\n"
          ],
          "name": "stderr"
        },
        {
          "output_type": "stream",
          "text": [
            "Accuracy after query 58: 0.8963\n",
            "Accuracy after query 59: 0.8951\n"
          ],
          "name": "stdout"
        },
        {
          "output_type": "stream",
          "text": [
            "/usr/local/lib/python3.7/dist-packages/sklearn/gaussian_process/_gpr.py:362: UserWarning: Predicted variances smaller than 0. Setting those variances to 0.\n",
            "  warnings.warn(\"Predicted variances smaller than 0. \"\n",
            "/content/gdrive/My Drive/active/master/modAL/acquisition.py:21: RuntimeWarning: divide by zero encountered in true_divide\n",
            "  z = (mean - max_val - tradeoff) / std\n",
            "/usr/local/lib/python3.7/dist-packages/sklearn/gaussian_process/_gpr.py:494: ConvergenceWarning: lbfgs failed to converge (status=2):\n",
            "ABNORMAL_TERMINATION_IN_LNSRCH.\n",
            "\n",
            "Increase the number of iterations (max_iter) or scale the data as shown in:\n",
            "    https://scikit-learn.org/stable/modules/preprocessing.html\n",
            "  _check_optimize_result(\"lbfgs\", opt_res)\n",
            "/usr/local/lib/python3.7/dist-packages/sklearn/gaussian_process/_gpr.py:362: UserWarning: Predicted variances smaller than 0. Setting those variances to 0.\n",
            "  warnings.warn(\"Predicted variances smaller than 0. \"\n",
            "/content/gdrive/My Drive/active/master/modAL/acquisition.py:21: RuntimeWarning: divide by zero encountered in true_divide\n",
            "  z = (mean - max_val - tradeoff) / std\n"
          ],
          "name": "stderr"
        },
        {
          "output_type": "stream",
          "text": [
            "Accuracy after query 60: 0.8942\n"
          ],
          "name": "stdout"
        },
        {
          "output_type": "stream",
          "text": [
            "/usr/local/lib/python3.7/dist-packages/sklearn/gaussian_process/_gpr.py:494: ConvergenceWarning: lbfgs failed to converge (status=2):\n",
            "ABNORMAL_TERMINATION_IN_LNSRCH.\n",
            "\n",
            "Increase the number of iterations (max_iter) or scale the data as shown in:\n",
            "    https://scikit-learn.org/stable/modules/preprocessing.html\n",
            "  _check_optimize_result(\"lbfgs\", opt_res)\n",
            "/usr/local/lib/python3.7/dist-packages/sklearn/gaussian_process/_gpr.py:362: UserWarning: Predicted variances smaller than 0. Setting those variances to 0.\n",
            "  warnings.warn(\"Predicted variances smaller than 0. \"\n",
            "/content/gdrive/My Drive/active/master/modAL/acquisition.py:21: RuntimeWarning: divide by zero encountered in true_divide\n",
            "  z = (mean - max_val - tradeoff) / std\n"
          ],
          "name": "stderr"
        },
        {
          "output_type": "stream",
          "text": [
            "Accuracy after query 61: 0.8956\n",
            "Accuracy after query 62: 0.8956\n"
          ],
          "name": "stdout"
        },
        {
          "output_type": "stream",
          "text": [
            "/usr/local/lib/python3.7/dist-packages/sklearn/gaussian_process/_gpr.py:362: UserWarning: Predicted variances smaller than 0. Setting those variances to 0.\n",
            "  warnings.warn(\"Predicted variances smaller than 0. \"\n",
            "/content/gdrive/My Drive/active/master/modAL/acquisition.py:21: RuntimeWarning: divide by zero encountered in true_divide\n",
            "  z = (mean - max_val - tradeoff) / std\n"
          ],
          "name": "stderr"
        },
        {
          "output_type": "stream",
          "text": [
            "Accuracy after query 63: 0.8956\n",
            "Accuracy after query 64: 0.8947\n"
          ],
          "name": "stdout"
        },
        {
          "output_type": "stream",
          "text": [
            "/usr/local/lib/python3.7/dist-packages/sklearn/gaussian_process/_gpr.py:362: UserWarning: Predicted variances smaller than 0. Setting those variances to 0.\n",
            "  warnings.warn(\"Predicted variances smaller than 0. \"\n",
            "/content/gdrive/My Drive/active/master/modAL/acquisition.py:21: RuntimeWarning: divide by zero encountered in true_divide\n",
            "  z = (mean - max_val - tradeoff) / std\n",
            "/usr/local/lib/python3.7/dist-packages/sklearn/gaussian_process/_gpr.py:494: ConvergenceWarning: lbfgs failed to converge (status=2):\n",
            "ABNORMAL_TERMINATION_IN_LNSRCH.\n",
            "\n",
            "Increase the number of iterations (max_iter) or scale the data as shown in:\n",
            "    https://scikit-learn.org/stable/modules/preprocessing.html\n",
            "  _check_optimize_result(\"lbfgs\", opt_res)\n",
            "/usr/local/lib/python3.7/dist-packages/sklearn/gaussian_process/_gpr.py:362: UserWarning: Predicted variances smaller than 0. Setting those variances to 0.\n",
            "  warnings.warn(\"Predicted variances smaller than 0. \"\n",
            "/content/gdrive/My Drive/active/master/modAL/acquisition.py:21: RuntimeWarning: divide by zero encountered in true_divide\n",
            "  z = (mean - max_val - tradeoff) / std\n"
          ],
          "name": "stderr"
        },
        {
          "output_type": "stream",
          "text": [
            "Accuracy after query 65: 0.8956\n"
          ],
          "name": "stdout"
        },
        {
          "output_type": "stream",
          "text": [
            "/usr/local/lib/python3.7/dist-packages/sklearn/gaussian_process/_gpr.py:494: ConvergenceWarning: lbfgs failed to converge (status=2):\n",
            "ABNORMAL_TERMINATION_IN_LNSRCH.\n",
            "\n",
            "Increase the number of iterations (max_iter) or scale the data as shown in:\n",
            "    https://scikit-learn.org/stable/modules/preprocessing.html\n",
            "  _check_optimize_result(\"lbfgs\", opt_res)\n",
            "/usr/local/lib/python3.7/dist-packages/sklearn/gaussian_process/_gpr.py:362: UserWarning: Predicted variances smaller than 0. Setting those variances to 0.\n",
            "  warnings.warn(\"Predicted variances smaller than 0. \"\n",
            "/content/gdrive/My Drive/active/master/modAL/acquisition.py:21: RuntimeWarning: divide by zero encountered in true_divide\n",
            "  z = (mean - max_val - tradeoff) / std\n"
          ],
          "name": "stderr"
        },
        {
          "output_type": "stream",
          "text": [
            "Accuracy after query 66: 0.9031\n",
            "Accuracy after query 67: 0.9027\n"
          ],
          "name": "stdout"
        },
        {
          "output_type": "stream",
          "text": [
            "/usr/local/lib/python3.7/dist-packages/sklearn/gaussian_process/_gpr.py:362: UserWarning: Predicted variances smaller than 0. Setting those variances to 0.\n",
            "  warnings.warn(\"Predicted variances smaller than 0. \"\n",
            "/content/gdrive/My Drive/active/master/modAL/acquisition.py:21: RuntimeWarning: divide by zero encountered in true_divide\n",
            "  z = (mean - max_val - tradeoff) / std\n"
          ],
          "name": "stderr"
        },
        {
          "output_type": "stream",
          "text": [
            "Accuracy after query 68: 0.9004\n"
          ],
          "name": "stdout"
        },
        {
          "output_type": "stream",
          "text": [
            "/usr/local/lib/python3.7/dist-packages/sklearn/gaussian_process/_gpr.py:362: UserWarning: Predicted variances smaller than 0. Setting those variances to 0.\n",
            "  warnings.warn(\"Predicted variances smaller than 0. \"\n",
            "/content/gdrive/My Drive/active/master/modAL/acquisition.py:21: RuntimeWarning: divide by zero encountered in true_divide\n",
            "  z = (mean - max_val - tradeoff) / std\n"
          ],
          "name": "stderr"
        },
        {
          "output_type": "stream",
          "text": [
            "Accuracy after query 69: 0.9094\n"
          ],
          "name": "stdout"
        },
        {
          "output_type": "stream",
          "text": [
            "/usr/local/lib/python3.7/dist-packages/sklearn/gaussian_process/_gpr.py:362: UserWarning: Predicted variances smaller than 0. Setting those variances to 0.\n",
            "  warnings.warn(\"Predicted variances smaller than 0. \"\n",
            "/content/gdrive/My Drive/active/master/modAL/acquisition.py:21: RuntimeWarning: divide by zero encountered in true_divide\n",
            "  z = (mean - max_val - tradeoff) / std\n",
            "/usr/local/lib/python3.7/dist-packages/sklearn/gaussian_process/_gpr.py:494: ConvergenceWarning: lbfgs failed to converge (status=2):\n",
            "ABNORMAL_TERMINATION_IN_LNSRCH.\n",
            "\n",
            "Increase the number of iterations (max_iter) or scale the data as shown in:\n",
            "    https://scikit-learn.org/stable/modules/preprocessing.html\n",
            "  _check_optimize_result(\"lbfgs\", opt_res)\n",
            "/usr/local/lib/python3.7/dist-packages/sklearn/gaussian_process/_gpr.py:362: UserWarning: Predicted variances smaller than 0. Setting those variances to 0.\n",
            "  warnings.warn(\"Predicted variances smaller than 0. \"\n",
            "/content/gdrive/My Drive/active/master/modAL/acquisition.py:21: RuntimeWarning: divide by zero encountered in true_divide\n",
            "  z = (mean - max_val - tradeoff) / std\n"
          ],
          "name": "stderr"
        },
        {
          "output_type": "stream",
          "text": [
            "Accuracy after query 70: 0.9077\n"
          ],
          "name": "stdout"
        },
        {
          "output_type": "stream",
          "text": [
            "/usr/local/lib/python3.7/dist-packages/sklearn/gaussian_process/_gpr.py:494: ConvergenceWarning: lbfgs failed to converge (status=2):\n",
            "ABNORMAL_TERMINATION_IN_LNSRCH.\n",
            "\n",
            "Increase the number of iterations (max_iter) or scale the data as shown in:\n",
            "    https://scikit-learn.org/stable/modules/preprocessing.html\n",
            "  _check_optimize_result(\"lbfgs\", opt_res)\n",
            "/usr/local/lib/python3.7/dist-packages/sklearn/gaussian_process/_gpr.py:362: UserWarning: Predicted variances smaller than 0. Setting those variances to 0.\n",
            "  warnings.warn(\"Predicted variances smaller than 0. \"\n",
            "/content/gdrive/My Drive/active/master/modAL/acquisition.py:21: RuntimeWarning: divide by zero encountered in true_divide\n",
            "  z = (mean - max_val - tradeoff) / std\n"
          ],
          "name": "stderr"
        },
        {
          "output_type": "stream",
          "text": [
            "Accuracy after query 71: 0.9082\n",
            "Accuracy after query 72: 0.9088\n"
          ],
          "name": "stdout"
        },
        {
          "output_type": "stream",
          "text": [
            "/usr/local/lib/python3.7/dist-packages/sklearn/gaussian_process/_gpr.py:362: UserWarning: Predicted variances smaller than 0. Setting those variances to 0.\n",
            "  warnings.warn(\"Predicted variances smaller than 0. \"\n",
            "/content/gdrive/My Drive/active/master/modAL/acquisition.py:21: RuntimeWarning: divide by zero encountered in true_divide\n",
            "  z = (mean - max_val - tradeoff) / std\n",
            "/usr/local/lib/python3.7/dist-packages/sklearn/gaussian_process/_gpr.py:494: ConvergenceWarning: lbfgs failed to converge (status=2):\n",
            "ABNORMAL_TERMINATION_IN_LNSRCH.\n",
            "\n",
            "Increase the number of iterations (max_iter) or scale the data as shown in:\n",
            "    https://scikit-learn.org/stable/modules/preprocessing.html\n",
            "  _check_optimize_result(\"lbfgs\", opt_res)\n",
            "/usr/local/lib/python3.7/dist-packages/sklearn/gaussian_process/_gpr.py:362: UserWarning: Predicted variances smaller than 0. Setting those variances to 0.\n",
            "  warnings.warn(\"Predicted variances smaller than 0. \"\n",
            "/content/gdrive/My Drive/active/master/modAL/acquisition.py:21: RuntimeWarning: divide by zero encountered in true_divide\n",
            "  z = (mean - max_val - tradeoff) / std\n"
          ],
          "name": "stderr"
        },
        {
          "output_type": "stream",
          "text": [
            "Accuracy after query 73: 0.9080\n"
          ],
          "name": "stdout"
        },
        {
          "output_type": "stream",
          "text": [
            "/usr/local/lib/python3.7/dist-packages/sklearn/gaussian_process/_gpr.py:494: ConvergenceWarning: lbfgs failed to converge (status=2):\n",
            "ABNORMAL_TERMINATION_IN_LNSRCH.\n",
            "\n",
            "Increase the number of iterations (max_iter) or scale the data as shown in:\n",
            "    https://scikit-learn.org/stable/modules/preprocessing.html\n",
            "  _check_optimize_result(\"lbfgs\", opt_res)\n",
            "/usr/local/lib/python3.7/dist-packages/sklearn/gaussian_process/_gpr.py:362: UserWarning: Predicted variances smaller than 0. Setting those variances to 0.\n",
            "  warnings.warn(\"Predicted variances smaller than 0. \"\n",
            "/content/gdrive/My Drive/active/master/modAL/acquisition.py:21: RuntimeWarning: divide by zero encountered in true_divide\n",
            "  z = (mean - max_val - tradeoff) / std\n"
          ],
          "name": "stderr"
        },
        {
          "output_type": "stream",
          "text": [
            "Accuracy after query 74: 0.9088\n",
            "Accuracy after query 75: 0.9103\n"
          ],
          "name": "stdout"
        },
        {
          "output_type": "stream",
          "text": [
            "/usr/local/lib/python3.7/dist-packages/sklearn/gaussian_process/_gpr.py:494: ConvergenceWarning: lbfgs failed to converge (status=2):\n",
            "ABNORMAL_TERMINATION_IN_LNSRCH.\n",
            "\n",
            "Increase the number of iterations (max_iter) or scale the data as shown in:\n",
            "    https://scikit-learn.org/stable/modules/preprocessing.html\n",
            "  _check_optimize_result(\"lbfgs\", opt_res)\n"
          ],
          "name": "stderr"
        }
      ]
    },
    {
      "cell_type": "code",
      "metadata": {
        "colab": {
          "base_uri": "https://localhost:8080/"
        },
        "id": "grQHtRmOpETZ",
        "outputId": "c0773017-d8d9-4c73-fc19-64c19a1ed6ee"
      },
      "source": [
        "y_pred, y_std = optimizer.predict(X, return_std=True)\n",
        "y_pred, y_std = y_pred.ravel(), y_std.ravel()\n",
        "X_max, y_max = optimizer.get_max()\n"
      ],
      "execution_count": 15,
      "outputs": [
        {
          "output_type": "stream",
          "text": [
            "/usr/local/lib/python3.7/dist-packages/sklearn/gaussian_process/_gpr.py:362: UserWarning: Predicted variances smaller than 0. Setting those variances to 0.\n",
            "  warnings.warn(\"Predicted variances smaller than 0. \"\n"
          ],
          "name": "stderr"
        }
      ]
    },
    {
      "cell_type": "code",
      "metadata": {
        "id": "rCbfIrsDqL4t"
      },
      "source": [
        "pca = PCA(n_components=1)\n",
        "transformed = pca.fit_transform(X=optimizer.X_training)\n",
        "x_component2 = transformed[:, 0]"
      ],
      "execution_count": 16,
      "outputs": []
    },
    {
      "cell_type": "code",
      "metadata": {
        "colab": {
          "base_uri": "https://localhost:8080/",
          "height": 331
        },
        "id": "Ak1AjpqZpEVz",
        "outputId": "a95af545-16b5-46e6-fffc-fe91bb9bce53"
      },
      "source": [
        "with plt.style.context('seaborn-white'):\n",
        "    plt.figure(figsize=(10, 5))\n",
        "    plt.scatter(x_component2, optimizer.y_training, c='k', s=50, label='Queried')\n",
        "    #plt.scatter(X_max, y_max, s=100, c='r', label='Current optimum')\n",
        "    plt.plot(x_component, y, c='k',  label='Function')\n",
        "    plt.plot(x_component, y_pred, label='GP regressor')\n",
        "    plt.fill_between(x_component, y_pred - y_std, y_pred + y_std, alpha=0.5)\n",
        "    plt.title('First five queries of Bayesian optimization')\n",
        "    plt.legend()\n",
        "    plt.show()"
      ],
      "execution_count": 17,
      "outputs": [
        {
          "output_type": "display_data",
          "data": {
            "image/png": "[encoded data removed]",
            "text/plain": [
              "<Figure size 720x360 with 1 Axes>"
            ]
          },
          "metadata": {
            "tags": []
          }
        }
      ]
    },
    {
      "cell_type": "code",
      "metadata": {
        "colab": {
          "base_uri": "https://localhost:8080/",
          "height": 350
        },
        "id": "LSfFL8-bpnGE",
        "outputId": "d2bad348-d55f-4cc8-83c1-6d6b80f4059f"
      },
      "source": [
        "fig, ax = plt.subplots(figsize=(10, 5))\n",
        "\n",
        "ax.plot(performance_history)\n",
        "ax.scatter(range(len(performance_history)), performance_history, s=13)\n",
        "\n",
        "ax.xaxis.set_major_locator(mpl.ticker.MaxNLocator(nbins=5, integer=True))\n",
        "ax.yaxis.set_major_locator(mpl.ticker.MaxNLocator(nbins=10))\n",
        "ax.yaxis.set_major_formatter(mpl.ticker.PercentFormatter(xmax=1))\n",
        "\n",
        "ax.set_ylim(bottom=0, top=1)\n",
        "ax.grid(True)\n",
        "\n",
        "ax.set_title('Incremental classification accuracy')\n",
        "ax.set_xlabel('Query iteration')\n",
        "ax.set_ylabel('Classification Accuracy')\n",
        "\n",
        "plt.show()"
      ],
      "execution_count": 18,
      "outputs": [
        {
          "output_type": "display_data",
          "data": {
            "image/png": "[encoded data removed]",
            "text/plain": [
              "<Figure size 720x360 with 1 Axes>"
            ]
          },
          "metadata": {
            "tags": [],
            "needs_background": "light"
          }
        }
      ]
    }
  ]
}